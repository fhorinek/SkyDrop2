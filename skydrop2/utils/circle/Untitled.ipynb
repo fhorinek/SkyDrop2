{
 "cells": [
  {
   "cell_type": "code",
   "execution_count": 15,
   "metadata": {},
   "outputs": [
    {
     "name": "stdout",
     "output_type": "stream",
     "text": [
      "Using matplotlib backend: TkAgg\n"
     ]
    }
   ],
   "source": [
    "%matplotlib\n",
    "\n",
    "import numpy as np\n",
    "from matplotlib.patches import Circle, Wedge, Polygon\n",
    "from matplotlib.collections import PatchCollection\n",
    "import matplotlib.pyplot as plt\n",
    "\n",
    "fig, ax = plt.subplots()\n",
    "\n",
    "start = 0, 0\n",
    "\n",
    "circles = []\n",
    "circles.append((1,7,2))\n",
    "circles.append((9,9,2))\n",
    "circles.append((6,2,2))\n",
    "circles.append((10,0,2))\n",
    "\n",
    "circles.append((13,7,1))\n",
    "\n",
    "pathx = []\n",
    "pathy = []\n",
    "\n",
    "def add_path(x, y):\n",
    "    pathx.append(x)\n",
    "    pathy.append(y)\n",
    "    \n",
    "    \n",
    "add_path(*start)\n",
    "for x, y, r in circles:\n",
    "    add_path(x, y)\n",
    "\n",
    "patches = []\n",
    "for x, y, r in circles:\n",
    "    circle = Circle((x, y), r, fill = False, ls='-', lw=2)\n",
    "    patches.append(circle)\n",
    "\n",
    "\n",
    "p = PatchCollection(patches, alpha=0.4)\n",
    "ax.add_collection(p)\n",
    "\n",
    "ax.set_xlim(-2, 14)\n",
    "ax.set_ylim(-2, 14)\n",
    "ax.set_aspect(1.0)\n",
    "\n",
    "plt.plot(pathx, pathy)\n",
    "\n",
    "plt.show()"
   ]
  },
  {
   "cell_type": "code",
   "execution_count": null,
   "metadata": {},
   "outputs": [],
   "source": []
  },
  {
   "cell_type": "code",
   "execution_count": null,
   "metadata": {},
   "outputs": [],
   "source": []
  }
 ],
 "metadata": {
  "kernelspec": {
   "display_name": "Python 3",
   "language": "python",
   "name": "python3"
  },
  "language_info": {
   "codemirror_mode": {
    "name": "ipython",
    "version": 3
   },
   "file_extension": ".py",
   "mimetype": "text/x-python",
   "name": "python",
   "nbconvert_exporter": "python",
   "pygments_lexer": "ipython3",
   "version": "3.6.8"
  }
 },
 "nbformat": 4,
 "nbformat_minor": 2
}
