{
 "metadata": {
  "name": ""
 },
 "nbformat": 3,
 "nbformat_minor": 0,
 "worksheets": [
  {
   "cells": [
    {
     "cell_type": "code",
     "collapsed": false,
     "input": [
      "def avg(data):\n",
      "    return sum(data)/ len(data)\n",
      "\n",
      "def read_file(f):\n",
      "    h = open(f, \"r\")\n",
      "    x = []\n",
      "    y = []\n",
      "    z = []\n",
      "    for line in h.readlines():\n",
      "        data = line.split(\";\")\n",
      "        if (len(data) == 14):\n",
      "            try:\n",
      "                x.append(float(data[0]))\n",
      "                y.append(float(data[1]))\n",
      "                z.append(float(data[2]))\n",
      "            except:\n",
      "                continue\n",
      "            \n",
      "    return [x,y,z]\n",
      "        \n",
      "    \n",
      "data = read_file(\"acc_data.csv\")\n",
      "\n",
      "\n",
      "print avg(data[0])\n",
      "print avg(data[1])\n",
      "print avg(data[2])\n"
     ],
     "language": "python",
     "metadata": {},
     "outputs": [
      {
       "output_type": "stream",
       "stream": "stdout",
       "text": [
        "8.4555984556\n",
        "-59.7297297297\n",
        "1384.08494208\n"
       ]
      }
     ],
     "prompt_number": 11
    }
   ],
   "metadata": {}
  }
 ]
}