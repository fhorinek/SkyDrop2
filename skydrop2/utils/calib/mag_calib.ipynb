{
 "metadata": {
  "name": ""
 },
 "nbformat": 3,
 "nbformat_minor": 0,
 "worksheets": [
  {
   "cells": [
    {
     "cell_type": "code",
     "collapsed": false,
     "input": [
      "import matplotlib.pyplot as plt\n",
      "from mpl_toolkits.mplot3d import Axes3D\n",
      "\n",
      "def read_file(f):\n",
      "    h = open(f, \"r\")\n",
      "    x = []\n",
      "    y = []\n",
      "    z = []\n",
      "    for line in h.readlines():\n",
      "        data = line.split(\";\")\n",
      "        if (len(data) == 4):\n",
      "            try:\n",
      "                x.append(float(data[0]))\n",
      "                y.append(float(data[1]))\n",
      "                z.append(float(data[2]))\n",
      "            except:\n",
      "                continue\n",
      "            \n",
      "    return [x,y,z]\n",
      "        \n",
      "def norm(d_in):\n",
      "    x_min = min(d_in)\n",
      "    x_max = max(d_in)\n",
      "\n",
      "    offset = (x_max + x_min) / 2\n",
      "    sens = (x_min - x_max) / 2\n",
      "    \n",
      "    print x_min, x_max, offset, sens\n",
      "    \n",
      "    d_out = []\n",
      "    for y in d_in:\n",
      "        d_out.append((y - offset) / sens)\n",
      "        \n",
      "    return d_out\n",
      "    \n",
      "    \n",
      "data = read_file(\"mag_data1.csv\")\n",
      "\n",
      "\n",
      "\n",
      "\n",
      "fig = plt.figure(1, figsize=(15,13))\n",
      "axs = fig.add_subplot(111, projection='3d')\n",
      "\n",
      "# axis = axs.plot(data[0], data[1], \"r-\", zs = data[2])\n",
      "plt.hold(1)\n",
      "\n",
      "print \"x_min, x_max, offset, sens\"\n",
      "\n",
      "print \"x\",\n",
      "data[0] = norm(data[0])\n",
      "print \"y\",\n",
      "data[1] = norm(data[1])\n",
      "print \"z\",\n",
      "data[2] = norm(data[2])\n",
      "print\n",
      "\n",
      "axs.plot(data[0], data[1], \"r-\", zs = data[2])\n",
      "axs.set_autoscale_on(True)\n",
      "plt.show()"
     ],
     "language": "python",
     "metadata": {},
     "outputs": [
      {
       "output_type": "stream",
       "stream": "stdout",
       "text": [
        "x_min, x_max, offset, sens\n",
        "x -2010.0 2962.0 476.0 -2486.0\n",
        "y -1315.0 3674.0 1179.5 -2494.5\n",
        "z -1301.0 3583.0 1141.0 -2442.0\n",
        "\n"
       ]
      }
     ],
     "prompt_number": 15
    },
    {
     "cell_type": "code",
     "collapsed": false,
     "input": [],
     "language": "python",
     "metadata": {},
     "outputs": []
    }
   ],
   "metadata": {}
  }
 ]
}